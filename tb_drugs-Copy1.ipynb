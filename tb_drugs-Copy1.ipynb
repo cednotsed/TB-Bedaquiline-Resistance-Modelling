{
 "cells": [
  {
   "cell_type": "markdown",
   "metadata": {},
   "source": [
    "# TB Drug Susceptibility Mutations"
   ]
  },
  {
   "cell_type": "code",
   "execution_count": 1,
   "metadata": {},
   "outputs": [],
   "source": [
    "# Import Statements\n",
    "from xgboost import XGBClassifier\n",
    "from sklearn.model_selection import GridSearchCV\n",
    "from sklearn.model_selection import StratifiedKFold\n",
    "import pandas as pd\n",
    "import numpy as np\n",
    "import os\n",
    "import matplotlib.pyplot as plt\n",
    "from pathlib import Path\n",
    "cwd = Path.cwd()"
   ]
  },
  {
   "cell_type": "markdown",
   "metadata": {},
   "source": [
    "## Data Preprocessing\n",
    "Since we are using stratified kfold, a validation split is not necesssary."
   ]
  },
  {
   "cell_type": "markdown",
   "metadata": {},
   "source": [
    "### Load data"
   ]
  },
  {
   "cell_type": "code",
   "execution_count": 2,
   "metadata": {},
   "outputs": [],
   "source": [
    "df = pd.read_csv('filtered.csv')\n",
    "\n",
    "# Remove 1 entry with NA PROVEAN output\n",
    "df = df.dropna()\n",
    "\n",
    "X = df[['original', 'new']]\n",
    "effect_score = df['effect score']\n",
    "effect = df['effect']\n",
    "ligand_binding = df['ligand_binding']\n",
    "y = df['drug']"
   ]
  },
  {
   "cell_type": "code",
   "execution_count": 3,
   "metadata": {},
   "outputs": [],
   "source": [
    "aa_prop = X.replace({'Gly': 'non-polar', 'Ala': 'non-polar', 'Val': 'non-polar', 'Cys': 'non-polar', 'Pro': 'non-polar', \n",
    "                      'Leu': 'non-polar', 'Ile': 'non-polar', 'Met': 'non-polar', 'Trp': 'non-polar', 'Phe': 'non-polar', \n",
    "                      'Ser': 'polar', 'Thr': 'polar', 'Tyr': 'polar', 'Asn': 'polar', 'Gln': 'polar', \n",
    "                      'Lys': 'pos', 'Arg': 'pos', 'His': 'pos', 'Asp': 'neg', 'Glu': 'neg'})\n",
    "aa_prop.columns = ['Original Property', 'New Property']"
   ]
  },
  {
   "cell_type": "code",
   "execution_count": 5,
   "metadata": {},
   "outputs": [],
   "source": [
    "def get_polarity(x):\n",
    "    if x[0] == 'non-polar' and x[1] != 'non-polar':\n",
    "        return 1\n",
    "    elif x[0] != 'non-polar' and x[1] == 'non-polar':\n",
    "        return -1\n",
    "    else:\n",
    "        return 0\n",
    "    \n",
    "polarity = aa_prop.apply(get_polarity, axis=1)\n",
    "polarity.name = 'Polarity Change'"
   ]
  },
  {
   "cell_type": "code",
   "execution_count": 6,
   "metadata": {},
   "outputs": [],
   "source": [
    "# Hydrophobic = -1, Hydrophilic = 1\n",
    "hydrophobic = X.replace({'Gly': -1, 'Ala': -1, 'Val': -1, 'Cys': -1, 'Pro': -1, \n",
    "                          'Leu': -1, 'Ile': -1, 'Met': -1, 'Trp': -1, 'Phe': -1, \n",
    "                          'Ser': 1, 'Thr': 1, 'Tyr': 1, 'Asn': 1, 'Gln': 1, \n",
    "                          'Lys': 1, 'Arg': 1, 'His': 1, 'Asp': 1, 'Glu': 1})\n",
    "\n",
    "hydrophobic.columns = ['Original Hydrophobicity', 'New Hydrophobicity']"
   ]
  },
  {
   "cell_type": "code",
   "execution_count": 7,
   "metadata": {},
   "outputs": [],
   "source": [
    "def get_hydrophobic(x):\n",
    "    if x[0] == -1 and x[1] == 1:\n",
    "        return 1\n",
    "    if x[0] == 1 and x[1] == -1:\n",
    "        return -1\n",
    "    else:\n",
    "        return 0\n",
    "    \n",
    "hydrophobic_change = hydrophobic.apply(get_hydrophobic, axis=1)\n",
    "hydrophobic_change.name = 'Hydrophobicity Change'"
   ]
  },
  {
   "cell_type": "code",
   "execution_count": 8,
   "metadata": {},
   "outputs": [],
   "source": [
    "def get_charge(x):\n",
    "    if x[0] == 'pos' and (x[1] == 'non-polar' or x[1] == 'polar'):\n",
    "        return -1\n",
    "    elif x[0] == 'pos' and x[1] == 'neg':\n",
    "        return -2\n",
    "    elif x[0] == 'neg' and (x[1] == 'non-polar' or x[1] == 'polar'):\n",
    "        return 1\n",
    "    elif x[0] == 'neg' and x[1] == 'pos':\n",
    "        return 2\n",
    "    elif (x[0] == 'non-polar' or x[0] == 'polar') and x[1] == 'pos':\n",
    "        return 1\n",
    "    elif (x[0] == 'non-polar' or x[0] == 'polar') and x[1] == 'neg':\n",
    "        return -1\n",
    "    \n",
    "    else:\n",
    "        return 0\n",
    "    \n",
    "charge = aa_prop.apply(get_charge, axis=1)\n",
    "charge.name = 'Charge Change'"
   ]
  },
  {
   "cell_type": "code",
   "execution_count": 9,
   "metadata": {},
   "outputs": [],
   "source": [
    "mw = X.replace({'Gly': 75, 'Ala': 89, 'Val': 117, 'Cys': 121, 'Pro': 115, \n",
    "                      'Leu': 131, 'Ile': 131, 'Met': 149, 'Trp': 204, 'Phe': 165, \n",
    "                      'Ser': 105, 'Thr': 119, 'Tyr': 181, 'Asn': 132, 'Gln': 146, \n",
    "                      'Lys': 146, 'Arg': 174, 'His': 155, 'Asp': 133, 'Glu': 147})\n",
    "mw.columns = ['Original MW', 'New MW']\n",
    "\n",
    "mw_change = mw['New MW'] - mw['Original MW']\n",
    "mw_change.name = 'MW Change'"
   ]
  },
  {
   "cell_type": "markdown",
   "metadata": {},
   "source": [
    "### Combine Features"
   ]
  },
  {
   "cell_type": "code",
   "execution_count": 10,
   "metadata": {
    "scrolled": true
   },
   "outputs": [
    {
     "data": {
      "text/html": [
       "<div>\n",
       "<style scoped>\n",
       "    .dataframe tbody tr th:only-of-type {\n",
       "        vertical-align: middle;\n",
       "    }\n",
       "\n",
       "    .dataframe tbody tr th {\n",
       "        vertical-align: top;\n",
       "    }\n",
       "\n",
       "    .dataframe thead th {\n",
       "        text-align: right;\n",
       "    }\n",
       "</style>\n",
       "<table border=\"1\" class=\"dataframe\">\n",
       "  <thead>\n",
       "    <tr style=\"text-align: right;\">\n",
       "      <th></th>\n",
       "      <th>original</th>\n",
       "      <th>new</th>\n",
       "      <th>Original Property</th>\n",
       "      <th>New Property</th>\n",
       "      <th>Polarity Change</th>\n",
       "      <th>Original Hydrophobicity</th>\n",
       "      <th>New Hydrophobicity</th>\n",
       "      <th>Hydrophobicity Change</th>\n",
       "      <th>Charge Change</th>\n",
       "      <th>Original MW</th>\n",
       "      <th>New MW</th>\n",
       "      <th>MW Change</th>\n",
       "    </tr>\n",
       "  </thead>\n",
       "  <tbody>\n",
       "    <tr>\n",
       "      <th>0</th>\n",
       "      <td>Val</td>\n",
       "      <td>Ala</td>\n",
       "      <td>non-polar</td>\n",
       "      <td>non-polar</td>\n",
       "      <td>0</td>\n",
       "      <td>-1</td>\n",
       "      <td>-1</td>\n",
       "      <td>0</td>\n",
       "      <td>0</td>\n",
       "      <td>117</td>\n",
       "      <td>89</td>\n",
       "      <td>-28</td>\n",
       "    </tr>\n",
       "    <tr>\n",
       "      <th>1</th>\n",
       "      <td>Ser</td>\n",
       "      <td>Arg</td>\n",
       "      <td>polar</td>\n",
       "      <td>pos</td>\n",
       "      <td>0</td>\n",
       "      <td>1</td>\n",
       "      <td>1</td>\n",
       "      <td>0</td>\n",
       "      <td>1</td>\n",
       "      <td>105</td>\n",
       "      <td>174</td>\n",
       "      <td>69</td>\n",
       "    </tr>\n",
       "    <tr>\n",
       "      <th>2</th>\n",
       "      <td>Ser</td>\n",
       "      <td>Ile</td>\n",
       "      <td>polar</td>\n",
       "      <td>non-polar</td>\n",
       "      <td>-1</td>\n",
       "      <td>1</td>\n",
       "      <td>-1</td>\n",
       "      <td>-1</td>\n",
       "      <td>0</td>\n",
       "      <td>105</td>\n",
       "      <td>131</td>\n",
       "      <td>26</td>\n",
       "    </tr>\n",
       "    <tr>\n",
       "      <th>3</th>\n",
       "      <td>Asp</td>\n",
       "      <td>Gly</td>\n",
       "      <td>neg</td>\n",
       "      <td>non-polar</td>\n",
       "      <td>-1</td>\n",
       "      <td>1</td>\n",
       "      <td>-1</td>\n",
       "      <td>-1</td>\n",
       "      <td>1</td>\n",
       "      <td>133</td>\n",
       "      <td>75</td>\n",
       "      <td>-58</td>\n",
       "    </tr>\n",
       "    <tr>\n",
       "      <th>4</th>\n",
       "      <td>Met</td>\n",
       "      <td>Leu</td>\n",
       "      <td>non-polar</td>\n",
       "      <td>non-polar</td>\n",
       "      <td>0</td>\n",
       "      <td>-1</td>\n",
       "      <td>-1</td>\n",
       "      <td>0</td>\n",
       "      <td>0</td>\n",
       "      <td>149</td>\n",
       "      <td>131</td>\n",
       "      <td>-18</td>\n",
       "    </tr>\n",
       "    <tr>\n",
       "      <th>...</th>\n",
       "      <td>...</td>\n",
       "      <td>...</td>\n",
       "      <td>...</td>\n",
       "      <td>...</td>\n",
       "      <td>...</td>\n",
       "      <td>...</td>\n",
       "      <td>...</td>\n",
       "      <td>...</td>\n",
       "      <td>...</td>\n",
       "      <td>...</td>\n",
       "      <td>...</td>\n",
       "      <td>...</td>\n",
       "    </tr>\n",
       "    <tr>\n",
       "      <th>86</th>\n",
       "      <td>Met</td>\n",
       "      <td>Thr</td>\n",
       "      <td>non-polar</td>\n",
       "      <td>polar</td>\n",
       "      <td>1</td>\n",
       "      <td>-1</td>\n",
       "      <td>1</td>\n",
       "      <td>1</td>\n",
       "      <td>0</td>\n",
       "      <td>149</td>\n",
       "      <td>119</td>\n",
       "      <td>-30</td>\n",
       "    </tr>\n",
       "    <tr>\n",
       "      <th>87</th>\n",
       "      <td>Leu</td>\n",
       "      <td>Pro</td>\n",
       "      <td>non-polar</td>\n",
       "      <td>non-polar</td>\n",
       "      <td>0</td>\n",
       "      <td>-1</td>\n",
       "      <td>-1</td>\n",
       "      <td>0</td>\n",
       "      <td>0</td>\n",
       "      <td>131</td>\n",
       "      <td>115</td>\n",
       "      <td>-16</td>\n",
       "    </tr>\n",
       "    <tr>\n",
       "      <th>88</th>\n",
       "      <td>Tyr</td>\n",
       "      <td>Asp</td>\n",
       "      <td>polar</td>\n",
       "      <td>neg</td>\n",
       "      <td>0</td>\n",
       "      <td>1</td>\n",
       "      <td>1</td>\n",
       "      <td>0</td>\n",
       "      <td>-1</td>\n",
       "      <td>181</td>\n",
       "      <td>133</td>\n",
       "      <td>-48</td>\n",
       "    </tr>\n",
       "    <tr>\n",
       "      <th>89</th>\n",
       "      <td>Tyr</td>\n",
       "      <td>His</td>\n",
       "      <td>polar</td>\n",
       "      <td>pos</td>\n",
       "      <td>0</td>\n",
       "      <td>1</td>\n",
       "      <td>1</td>\n",
       "      <td>0</td>\n",
       "      <td>1</td>\n",
       "      <td>181</td>\n",
       "      <td>155</td>\n",
       "      <td>-26</td>\n",
       "    </tr>\n",
       "    <tr>\n",
       "      <th>90</th>\n",
       "      <td>Ser</td>\n",
       "      <td>Arg</td>\n",
       "      <td>polar</td>\n",
       "      <td>pos</td>\n",
       "      <td>0</td>\n",
       "      <td>1</td>\n",
       "      <td>1</td>\n",
       "      <td>0</td>\n",
       "      <td>1</td>\n",
       "      <td>105</td>\n",
       "      <td>174</td>\n",
       "      <td>69</td>\n",
       "    </tr>\n",
       "  </tbody>\n",
       "</table>\n",
       "<p>90 rows × 12 columns</p>\n",
       "</div>"
      ],
      "text/plain": [
       "   original  new Original Property New Property  Polarity Change  \\\n",
       "0       Val  Ala         non-polar    non-polar                0   \n",
       "1       Ser  Arg             polar          pos                0   \n",
       "2       Ser  Ile             polar    non-polar               -1   \n",
       "3       Asp  Gly               neg    non-polar               -1   \n",
       "4       Met  Leu         non-polar    non-polar                0   \n",
       "..      ...  ...               ...          ...              ...   \n",
       "86      Met  Thr         non-polar        polar                1   \n",
       "87      Leu  Pro         non-polar    non-polar                0   \n",
       "88      Tyr  Asp             polar          neg                0   \n",
       "89      Tyr  His             polar          pos                0   \n",
       "90      Ser  Arg             polar          pos                0   \n",
       "\n",
       "    Original Hydrophobicity  New Hydrophobicity  Hydrophobicity Change  \\\n",
       "0                        -1                  -1                      0   \n",
       "1                         1                   1                      0   \n",
       "2                         1                  -1                     -1   \n",
       "3                         1                  -1                     -1   \n",
       "4                        -1                  -1                      0   \n",
       "..                      ...                 ...                    ...   \n",
       "86                       -1                   1                      1   \n",
       "87                       -1                  -1                      0   \n",
       "88                        1                   1                      0   \n",
       "89                        1                   1                      0   \n",
       "90                        1                   1                      0   \n",
       "\n",
       "    Charge Change  Original MW  New MW  MW Change  \n",
       "0               0          117      89        -28  \n",
       "1               1          105     174         69  \n",
       "2               0          105     131         26  \n",
       "3               1          133      75        -58  \n",
       "4               0          149     131        -18  \n",
       "..            ...          ...     ...        ...  \n",
       "86              0          149     119        -30  \n",
       "87              0          131     115        -16  \n",
       "88             -1          181     133        -48  \n",
       "89              1          181     155        -26  \n",
       "90              1          105     174         69  \n",
       "\n",
       "[90 rows x 12 columns]"
      ]
     },
     "metadata": {},
     "output_type": "display_data"
    }
   ],
   "source": [
    "X = pd.concat([X, aa_prop, polarity, hydrophobic, hydrophobic_change, charge, effect_score, effect, mw, mw_change], axis=1)\n",
    "X = X.drop(columns=['effect score', 'effect'], axis=1)\n",
    "display(X)"
   ]
  },
  {
   "cell_type": "code",
   "execution_count": 11,
   "metadata": {},
   "outputs": [],
   "source": [
    "# to_save = pd.concat([y, X], axis=1)\n",
    "# to_save.to_csv(cwd / 'parsed_data.csv', sep=',', index=False, header=True)"
   ]
  },
  {
   "cell_type": "markdown",
   "metadata": {},
   "source": [
    "### Encoding"
   ]
  },
  {
   "cell_type": "code",
   "execution_count": 12,
   "metadata": {},
   "outputs": [],
   "source": [
    "from sklearn.preprocessing import OrdinalEncoder\n",
    "\n",
    "aa_encoder = OrdinalEncoder()\n",
    "provean_encoder = OrdinalEncoder()\n",
    "prop_encoder = OrdinalEncoder()\n",
    "\n",
    "X[['original', 'new']] = aa_encoder.fit_transform(X[['original', 'new']]) + 1\n",
    "# X['effect'] = provean_encoder.fit_transform(np.array(X['effect']).reshape(-1, 1))\n",
    "X[['Original Property', 'New Property']] = aa_encoder.fit_transform(X[['Original Property', 'New Property']]) + 1\n",
    "\n",
    "\n",
    "y = y.replace({'Resistant': 1, 'Susceptible': 0})"
   ]
  },
  {
   "cell_type": "code",
   "execution_count": 11,
   "metadata": {},
   "outputs": [
    {
     "data": {
      "text/plain": [
       "0       Resistant\n",
       "1       Resistant\n",
       "2       Resistant\n",
       "3     Susceptible\n",
       "4     Susceptible\n",
       "         ...     \n",
       "86    Susceptible\n",
       "87      Resistant\n",
       "88    Susceptible\n",
       "89    Susceptible\n",
       "90    Susceptible\n",
       "Name: drug, Length: 90, dtype: object"
      ]
     },
     "execution_count": 11,
     "metadata": {},
     "output_type": "execute_result"
    }
   ],
   "source": [
    "y"
   ]
  },
  {
   "cell_type": "code",
   "execution_count": 13,
   "metadata": {},
   "outputs": [],
   "source": [
    "# to_save = pd.concat([y, X], axis=1)\n",
    "# to_save.to_csv(cwd / 'parsed_data.csv', sep=',', index=False, header=True)"
   ]
  },
  {
   "cell_type": "markdown",
   "metadata": {},
   "source": [
    "### Train Test Split"
   ]
  },
  {
   "cell_type": "code",
   "execution_count": 55,
   "metadata": {},
   "outputs": [
    {
     "name": "stdout",
     "output_type": "stream",
     "text": [
      "82    Resistant\n",
      "30    Resistant\n",
      "25    Resistant\n",
      "9     Resistant\n",
      "Name: drug, dtype: object\n",
      "24      Resistant\n",
      "35    Susceptible\n",
      "19      Resistant\n",
      "72      Resistant\n",
      "Name: drug, dtype: object\n",
      "22    Resistant\n",
      "63    Resistant\n",
      "78    Resistant\n",
      "24    Resistant\n",
      "Name: drug, dtype: object\n"
     ]
    }
   ],
   "source": [
    "from sklearn.model_selection import train_test_split\n",
    "from sklearn.utils import resample\n",
    "\n",
    "# Test data\n",
    "np.random.seed(66)\n",
    "for _ in range(3):\n",
    "    y_perm = resample(y, replace=False)\n",
    "    X_train, X_test, y_train, y_test = train_test_split(X, y_perm,\n",
    "                                                        shuffle=True,\n",
    "                                                        random_state=66,\n",
    "                                                        test_size=0.5,\n",
    "                                                        stratify=y)\n",
    "    \n",
    "    print(y_test[1:5])"
   ]
  },
  {
   "cell_type": "code",
   "execution_count": null,
   "metadata": {},
   "outputs": [],
   "source": []
  },
  {
   "cell_type": "markdown",
   "metadata": {},
   "source": [
    "Printing the number of genus taxa"
   ]
  },
  {
   "cell_type": "markdown",
   "metadata": {},
   "source": [
    "Here I print the number of examples for each split of data."
   ]
  },
  {
   "cell_type": "code",
   "execution_count": 15,
   "metadata": {},
   "outputs": [
    {
     "data": {
      "text/html": [
       "<div>\n",
       "<style scoped>\n",
       "    .dataframe tbody tr th:only-of-type {\n",
       "        vertical-align: middle;\n",
       "    }\n",
       "\n",
       "    .dataframe tbody tr th {\n",
       "        vertical-align: top;\n",
       "    }\n",
       "\n",
       "    .dataframe thead th {\n",
       "        text-align: right;\n",
       "    }\n",
       "</style>\n",
       "<table border=\"1\" class=\"dataframe\">\n",
       "  <thead>\n",
       "    <tr style=\"text-align: right;\">\n",
       "      <th></th>\n",
       "      <th>Resistant</th>\n",
       "      <th>Susceptible</th>\n",
       "    </tr>\n",
       "  </thead>\n",
       "  <tbody>\n",
       "    <tr>\n",
       "      <th>train</th>\n",
       "      <td>30</td>\n",
       "      <td>15</td>\n",
       "    </tr>\n",
       "    <tr>\n",
       "      <th>test</th>\n",
       "      <td>29</td>\n",
       "      <td>16</td>\n",
       "    </tr>\n",
       "  </tbody>\n",
       "</table>\n",
       "</div>"
      ],
      "text/plain": [
       "      Resistant Susceptible\n",
       "train        30          15\n",
       "test         29          16"
      ]
     },
     "metadata": {},
     "output_type": "display_data"
    }
   ],
   "source": [
    "def get_metadata(y, df):\n",
    "    pos = len(y[y == 1])\n",
    "    neg = len(y[y == 0])\n",
    "    row = pd.DataFrame({'Resistant': [pos], 'Susceptible': [neg]})\n",
    "    df = df.append(row)\n",
    "    return df\n",
    "\n",
    "\n",
    "metadata = pd.DataFrame(columns=['Resistant', 'Susceptible'])\n",
    "metadata = get_metadata(y_train, metadata)\n",
    "metadata = get_metadata(y_test, metadata)\n",
    "metadata.index = ['train', 'test']\n",
    "display(metadata)\n",
    "\n",
    "# Get negative to positive ratio\n",
    "ratio = sum(y == 0) / sum(y == 1)"
   ]
  },
  {
   "cell_type": "markdown",
   "metadata": {},
   "source": [
    "## Optimising model hyperparameters\n",
    "We use gridsearch to do hyperparameter optimisation (n_estimators, max_depth).\n",
    "n_estimators: Number of tree stumps\n",
    "max_depth: max depth of nodes in tree stumps"
   ]
  },
  {
   "cell_type": "code",
   "execution_count": 16,
   "metadata": {},
   "outputs": [],
   "source": [
    "def optimise(X, y):\n",
    "    # Hyperparemeter Optimisation using grid search (F1)\n",
    "    model = XGBClassifier()\n",
    "    n_estimators = range(5, 300, 5)\n",
    "    max_depth = range(1, 5, 1)\n",
    "    gamma = list(np.arange(1, 11, 1) / 10)\n",
    "    subsample = [0.6, 0.7, 0.8, 0.9, 1.0]\n",
    "    colsample_bytree = [6/12, 7/12, 8/12, 9/12, 10/12, 11/12]\n",
    "    print(max_depth)\n",
    "    param_grid = dict(max_depth=max_depth, \n",
    "                      n_estimators=n_estimators, \n",
    "                      gamma = gamma,\n",
    "                      subsample = subsample,\n",
    "                      colsample_bytree=colsample_bytree,\n",
    "                      scale_pos_weight = [ratio])\n",
    "    kfold = StratifiedKFold(n_splits=5, shuffle=True, random_state=66)\n",
    "    grid_search = GridSearchCV(model, param_grid, scoring=\"f1\", n_jobs=-1, cv=kfold, verbose=1)\n",
    "    grid_result = grid_search.fit(X, y)\n",
    "    # summarize results\n",
    "    means = grid_result.cv_results_['mean_test_score']\n",
    "    stds = grid_result.cv_results_['std_test_score']\n",
    "    params = grid_result.cv_results_['params']\n",
    "    print(\"Best: %f using %s\" % (grid_result.best_score_, grid_result.best_params_))\n",
    "\n",
    "    # Print parameters and scores\n",
    "#     for mean, stdev, param in zip(means, stds, params):\n",
    "#         print(\"%f (%f) with: %r\" % (mean, stdev, param))\n",
    "\n",
    "    return(grid_result.best_params_)"
   ]
  },
  {
   "cell_type": "code",
   "execution_count": 17,
   "metadata": {
    "scrolled": true
   },
   "outputs": [],
   "source": [
    "# params = optimise(X_train, y_train)\n",
    "params = {'colsample_bytree': 0.5833333333333334, 'gamma': 1.0, 'max_depth': 1, 'n_estimators': 105, 'scale_pos_weight': 0.5254237288135594, 'subsample': 0.6}"
   ]
  },
  {
   "cell_type": "markdown",
   "metadata": {},
   "source": [
    "## Fit optimised models"
   ]
  },
  {
   "cell_type": "code",
   "execution_count": 19,
   "metadata": {
    "scrolled": true
   },
   "outputs": [
    {
     "data": {
      "text/plain": [
       "XGBClassifier(base_score=0.5, booster='gbtree', colsample_bylevel=1,\n",
       "              colsample_bynode=1, colsample_bytree=0.75, gamma=0.1,\n",
       "              learning_rate=0.1, max_delta_step=0, max_depth=3,\n",
       "              min_child_weight=1, missing=None, n_estimators=295, n_jobs=1,\n",
       "              nthread=None, objective='binary:logistic', random_state=0,\n",
       "              reg_alpha=0, reg_lambda=1, scale_pos_weight=0.5254237288135594,\n",
       "              seed=None, silent=None, subsample=0.8, verbosity=1)"
      ]
     },
     "execution_count": 19,
     "metadata": {},
     "output_type": "execute_result"
    }
   ],
   "source": [
    "# Fit optimised model on all training data\n",
    "drug_model = XGBClassifier(**params)\n",
    "drug_model.fit(X=X_train, y=y_train, early_stopping_rounds=10)"
   ]
  },
  {
   "cell_type": "markdown",
   "metadata": {},
   "source": [
    "## Evaluate model"
   ]
  },
  {
   "cell_type": "code",
   "execution_count": 26,
   "metadata": {
    "scrolled": true
   },
   "outputs": [
    {
     "data": {
      "text/html": [
       "<div>\n",
       "<style scoped>\n",
       "    .dataframe tbody tr th:only-of-type {\n",
       "        vertical-align: middle;\n",
       "    }\n",
       "\n",
       "    .dataframe tbody tr th {\n",
       "        vertical-align: top;\n",
       "    }\n",
       "\n",
       "    .dataframe thead th {\n",
       "        text-align: right;\n",
       "    }\n",
       "</style>\n",
       "<table border=\"1\" class=\"dataframe\">\n",
       "  <thead>\n",
       "    <tr style=\"text-align: right;\">\n",
       "      <th></th>\n",
       "      <th>Accuracy</th>\n",
       "      <th>Precision</th>\n",
       "      <th>Specificity</th>\n",
       "      <th>F1</th>\n",
       "      <th>AUROC</th>\n",
       "    </tr>\n",
       "  </thead>\n",
       "  <tbody>\n",
       "    <tr>\n",
       "      <th>0</th>\n",
       "      <td>0.644444</td>\n",
       "      <td>0.709677</td>\n",
       "      <td>0.758621</td>\n",
       "      <td>0.733333</td>\n",
       "      <td>0.678879</td>\n",
       "    </tr>\n",
       "    <tr>\n",
       "      <th>0</th>\n",
       "      <td>0.444444</td>\n",
       "      <td>0.629630</td>\n",
       "      <td>0.531250</td>\n",
       "      <td>0.576271</td>\n",
       "      <td>0.371394</td>\n",
       "    </tr>\n",
       "  </tbody>\n",
       "</table>\n",
       "</div>"
      ],
      "text/plain": [
       "   Accuracy  Precision  Specificity        F1     AUROC\n",
       "0  0.644444   0.709677     0.758621  0.733333  0.678879\n",
       "0  0.444444   0.629630     0.531250  0.576271  0.371394"
      ]
     },
     "metadata": {},
     "output_type": "display_data"
    }
   ],
   "source": [
    "from sklearn.metrics import roc_auc_score, accuracy_score, precision_recall_fscore_support \n",
    "from imblearn.metrics import sensitivity_specificity_support\n",
    "\n",
    "\n",
    "def evaluate(model, X_test, y_test):\n",
    "    y_pred = model.predict(X_test)\n",
    "    y_score = model.predict_proba(X_test)[:, 1]\n",
    "\n",
    "    precision, recall, fscore, _ = precision_recall_fscore_support(y_true=y_test, y_pred=y_pred, average='binary')\n",
    "    auc = roc_auc_score(y_true=y_test, y_score=y_score)\n",
    "    accuracy = accuracy_score(y_true=y_test, y_pred=y_pred)\n",
    "    metric_df = pd.DataFrame({'Accuracy':[accuracy],\n",
    "                              'Precision': [precision],\n",
    "                              'Specificity': [recall],\n",
    "                              'F1': [fscore],\n",
    "                              'AUROC': [auc]})\n",
    "    return metric_df\n",
    "\n",
    "\n",
    "# Evaluate on test data\n",
    "xgb_metric = evaluate(drug_model, X_test, y_test)\n",
    "perm_metric = evaluate(perm_model, X_test, y_perm_test)\n",
    "\n",
    "metric_df = pd.concat([xgb_metric, perm_metric], axis=0)\n",
    "display(metric_df)"
   ]
  },
  {
   "cell_type": "markdown",
   "metadata": {},
   "source": [
    "## Permutation test"
   ]
  },
  {
   "cell_type": "code",
   "execution_count": null,
   "metadata": {},
   "outputs": [],
   "source": [
    "from sklearn.utils import resample\n",
    "\n",
    "def perm_metrics(y)\n",
    "y_perm = resample(y, replace=False, random_state=23)\n",
    "y_perm = y_perm.replace({'Resistant': 1, 'Susceptible': 0})\n",
    "perm_params = optimise(X_train, y_perm_train)\n",
    "perm_model = XGBClassifier(**perm_params)\n",
    "perm_model.fit(X=X_train, y=y_perm_train)"
   ]
  },
  {
   "cell_type": "markdown",
   "metadata": {},
   "source": [
    "## Confusion Matrix for Karius Validation Set"
   ]
  },
  {
   "cell_type": "code",
   "execution_count": 21,
   "metadata": {
    "scrolled": true
   },
   "outputs": [
    {
     "data": {
      "image/png": "[encoded data removed]",
      "text/plain": [
       "<Figure size 432x288 with 2 Axes>"
      ]
     },
     "metadata": {
      "needs_background": "light"
     },
     "output_type": "display_data"
    }
   ],
   "source": [
    "from sklearn.metrics import plot_confusion_matrix\n",
    "\n",
    "bamboozle = plot_confusion_matrix(drug_model, X=X_test, y_true=y_test,\n",
    "                                  display_labels=['Susceptible', 'Resistant'],\n",
    "                                  include_values=True)"
   ]
  },
  {
   "cell_type": "markdown",
   "metadata": {},
   "source": [
    "## Interpreting model using SHAP values"
   ]
  },
  {
   "cell_type": "markdown",
   "metadata": {},
   "source": [
    "### Feature importance\n",
    "This is a plot of mean absolute SHAP values per feature"
   ]
  },
  {
   "cell_type": "code",
   "execution_count": 22,
   "metadata": {
    "scrolled": false
   },
   "outputs": [],
   "source": [
    "import shap\n",
    "import matplotlib.pyplot as plt\n",
    "explainer = shap.TreeExplainer(drug_model, feature_pertubation='interventional', model_output='probability', data=X_train)\n"
   ]
  },
  {
   "cell_type": "markdown",
   "metadata": {},
   "source": [
    "### Plot of SHAP values per Feature"
   ]
  },
  {
   "cell_type": "code",
   "execution_count": 23,
   "metadata": {},
   "outputs": [
    {
     "ename": "NameError",
     "evalue": "name 'shap_raw' is not defined",
     "output_type": "error",
     "traceback": [
      "\u001b[0;31m---------------------------------------------------------------------------\u001b[0m",
      "\u001b[0;31mNameError\u001b[0m                                 Traceback (most recent call last)",
      "\u001b[0;32m<ipython-input-23-d51712ac35f5>\u001b[0m in \u001b[0;36m<module>\u001b[0;34m\u001b[0m\n\u001b[0;32m----> 1\u001b[0;31m \u001b[0mshap\u001b[0m\u001b[0;34m.\u001b[0m\u001b[0msummary_plot\u001b[0m\u001b[0;34m(\u001b[0m\u001b[0mshap_raw\u001b[0m\u001b[0;34m,\u001b[0m \u001b[0mX_train\u001b[0m\u001b[0;34m,\u001b[0m \u001b[0mshow\u001b[0m\u001b[0;34m=\u001b[0m\u001b[0;32mFalse\u001b[0m\u001b[0;34m,\u001b[0m \u001b[0mplot_size\u001b[0m\u001b[0;34m=\u001b[0m\u001b[0;34m(\u001b[0m\u001b[0;36m4\u001b[0m\u001b[0;34m,\u001b[0m \u001b[0;36m5\u001b[0m\u001b[0;34m)\u001b[0m\u001b[0;34m,\u001b[0m \u001b[0mcolor_bar_label\u001b[0m\u001b[0;34m=\u001b[0m\u001b[0;34m'Feature Value'\u001b[0m\u001b[0;34m)\u001b[0m\u001b[0;34m\u001b[0m\u001b[0;34m\u001b[0m\u001b[0m\n\u001b[0m\u001b[1;32m      2\u001b[0m \u001b[0;31m# fig, ax = plt.gcf(), plt.gca()\u001b[0m\u001b[0;34m\u001b[0m\u001b[0;34m\u001b[0m\u001b[0;34m\u001b[0m\u001b[0m\n\u001b[1;32m      3\u001b[0m \u001b[0;31m# ax.set_xlabel('SHAP Value')\u001b[0m\u001b[0;34m\u001b[0m\u001b[0;34m\u001b[0m\u001b[0;34m\u001b[0m\u001b[0m\n\u001b[1;32m      4\u001b[0m \u001b[0;31m# plt.savefig(results / 'raw_shap.svg', dpi=1200, format='svg', bbox_inches='tight')\u001b[0m\u001b[0;34m\u001b[0m\u001b[0;34m\u001b[0m\u001b[0;34m\u001b[0m\u001b[0m\n",
      "\u001b[0;31mNameError\u001b[0m: name 'shap_raw' is not defined"
     ]
    }
   ],
   "source": [
    "shap.summary_plot(shap_raw, X_train, show=False, plot_size=(4, 5), color_bar_label='Feature Value')\n",
    "# fig, ax = plt.gcf(), plt.gca()\n",
    "# ax.set_xlabel('SHAP Value')\n",
    "# plt.savefig(results / 'raw_shap.svg', dpi=1200, format='svg', bbox_inches='tight')"
   ]
  }
 ],
 "metadata": {
  "kernelspec": {
   "display_name": "sepsis",
   "language": "python",
   "name": "sepsis"
  },
  "language_info": {
   "codemirror_mode": {
    "name": "ipython",
    "version": 3
   },
   "file_extension": ".py",
   "mimetype": "text/x-python",
   "name": "python",
   "nbconvert_exporter": "python",
   "pygments_lexer": "ipython3",
   "version": "3.7.5"
  }
 },
 "nbformat": 4,
 "nbformat_minor": 4
}
